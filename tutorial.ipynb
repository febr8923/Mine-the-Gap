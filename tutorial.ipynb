{
 "cells": [
  {
   "cell_type": "markdown",
   "id": "49482f2a",
   "metadata": {},
   "source": [
    "<div class=\"alert alert-block alert-info\">\n",
    "⚠️ <b>Note:</b> We recommend using <code>Python ≥ 3.10</code> for full compatibility with <code>torch-geometric</code>.\n",
    "</div>"
   ]
  },
  {
   "cell_type": "code",
   "execution_count": null,
   "id": "eeb4de7a",
   "metadata": {},
   "outputs": [],
   "source": [
    "import pandas as pd\n",
    "import torch\n",
    "from torch_geometric.data import TemporalData"
   ]
  },
  {
   "cell_type": "code",
   "execution_count": null,
   "id": "5d3ea810",
   "metadata": {},
   "outputs": [],
   "source": [
    "#Load the dataset\n",
    "dataset = pd.read_csv('./data/edge_events.csv')"
   ]
  },
  {
   "cell_type": "code",
   "execution_count": null,
   "id": "87122094",
   "metadata": {},
   "outputs": [],
   "source": [
    "# Extract unique nodes and create mapping dictionaries\n",
    "nodes = pd.unique(dataset[[\"src\", \"dst\"]].to_numpy().ravel())\n",
    "node2idx = {n: i for i, n in enumerate(nodes)}\n",
    "idx2node = {i: n for n, i in node2idx.items()}\n",
    "\n",
    "# Map source and destination nodes to integer IDs\n",
    "src = dataset[\"src\"].map(node2idx).to_numpy()\n",
    "dst = dataset[\"dst\"].map(node2idx).to_numpy()\n",
    "\n",
    "# Extract timestamps and labels\n",
    "t = dataset[\"timestamp\"].astype(int).to_numpy()\n",
    "msg = pd.get_dummies(dataset[\"label\"]).to_numpy()\n",
    "\n",
    "# Build TemporalData object\n",
    "data = TemporalData(\n",
    "    src=torch.from_numpy(src).long(),\n",
    "    dst=torch.from_numpy(dst).long(),\n",
    "    t=torch.from_numpy(t).long(),\n",
    "    msg=torch.from_numpy(msg).float(),\n",
    ")"
   ]
  },
  {
   "cell_type": "code",
   "execution_count": null,
   "id": "3f2f8755",
   "metadata": {},
   "outputs": [],
   "source": [
    "\n",
    "import torch\n",
    "import torch.nn as nn\n",
    "from torch_geometric.nn import TemporalConv\n",
    "\n",
    "class SimpleTGNN(nn.Module):\n",
    "    def __init__(self, in_channels, out_channels):\n",
    "        super(SimpleTGNN, self).__init__()\n",
    "        self.temporal_conv = TemporalConv(in_channels, out_channels, kernel_size=3)\n",
    "\n",
    "    def forward(self, data):\n",
    "        x, edge_index, t = data.x, data.edge_index, data.t\n",
    "        x = self.temporal_conv(x, edge_index, t)\n",
    "        return x\n",
    "\n",
    "# Define model\n",
    "model = SimpleTGNN(in_channels=10, out_channels=5)"
   ]
  }
 ],
 "metadata": {
  "kernelspec": {
   "display_name": "hackathon",
   "language": "python",
   "name": "python3"
  },
  "language_info": {
   "codemirror_mode": {
    "name": "ipython",
    "version": 3
   },
   "file_extension": ".py",
   "mimetype": "text/x-python",
   "name": "python",
   "nbconvert_exporter": "python",
   "pygments_lexer": "ipython3",
   "version": "3.12.11"
  }
 },
 "nbformat": 4,
 "nbformat_minor": 5
}
